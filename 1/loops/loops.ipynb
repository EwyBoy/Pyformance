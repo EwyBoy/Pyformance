{
 "cells": [
  {
   "cell_type": "code",
   "execution_count": 35,
   "outputs": [],
   "source": [
    "import numpy"
   ],
   "metadata": {
    "collapsed": false
   }
  },
  {
   "cell_type": "markdown",
   "source": [
    "# Pyformance\n",
    "## Part 1 - Python to C#, how to loop faster"
   ],
   "metadata": {
    "collapsed": false
   }
  },
  {
   "cell_type": "markdown",
   "source": [
    "Starter med å importers timeit som er en python pakkke som lar oss ta tiden på ting"
   ],
   "metadata": {
    "collapsed": false
   }
  },
  {
   "cell_type": "code",
   "execution_count": 36,
   "outputs": [],
   "source": [
    "import timeit"
   ],
   "metadata": {
    "collapsed": false
   }
  },
  {
   "cell_type": "markdown",
   "source": [
    "\n",
    "\n",
    "Setter en global variabel til 100 000 000 (Et hundre millioner)\n"
   ],
   "metadata": {
    "collapsed": false
   }
  },
  {
   "cell_type": "code",
   "execution_count": 37,
   "outputs": [],
   "source": [
    "times = 100_000_000"
   ],
   "metadata": {
    "collapsed": false
   }
  },
  {
   "cell_type": "markdown",
   "source": [
    "\n",
    "\n",
    "\n",
    "\n"
   ],
   "metadata": {
    "collapsed": false
   }
  },
  {
   "cell_type": "code",
   "execution_count": 38,
   "outputs": [],
   "source": [
    "def while_loop():\n",
    "    total = 0\n",
    "    i = 0\n",
    "    while i < times:\n",
    "        total += i\n",
    "        i += 1\n",
    "    return total"
   ],
   "metadata": {
    "collapsed": false
   }
  },
  {
   "cell_type": "markdown",
   "source": [
    "\n",
    "\n",
    "\n",
    "\n"
   ],
   "metadata": {
    "collapsed": false
   }
  },
  {
   "cell_type": "code",
   "execution_count": 39,
   "outputs": [],
   "source": [
    "def for_loop():\n",
    "    total = 0\n",
    "    for i in range(times):\n",
    "        total += i\n",
    "    return total"
   ],
   "metadata": {
    "collapsed": false
   }
  },
  {
   "cell_type": "markdown",
   "source": [
    "\n",
    "\n",
    "\n",
    "\n"
   ],
   "metadata": {
    "collapsed": false
   }
  },
  {
   "cell_type": "code",
   "execution_count": 40,
   "outputs": [],
   "source": [
    "while_looped = timeit.timeit(while_loop, number=1)\n",
    "for_looped = timeit.timeit(for_loop, number=1)"
   ],
   "metadata": {
    "collapsed": false
   }
  },
  {
   "cell_type": "code",
   "execution_count": 41,
   "outputs": [
    {
     "name": "stdout",
     "output_type": "stream",
     "text": [
      "While loop 6.740 seconds \n",
      "For loop   2.673 seconds \n"
     ]
    }
   ],
   "source": [
    "print(f'{\"While loop\":<10} {while_looped:.3f} {\"seconds\":<8}')\n",
    "print(f'{\"For loop\":<10} {for_looped:.3f} {\"seconds\":<8}')"
   ],
   "metadata": {
    "collapsed": false
   }
  },
  {
   "cell_type": "code",
   "execution_count": 42,
   "outputs": [
    {
     "name": "stdout",
     "output_type": "stream",
     "text": [
      "Difference 4.066 seconds \n",
      "Sum loop   is 60.34 % faster than while loop\n"
     ]
    }
   ],
   "source": [
    "print(f'{\"Difference\":<10} {while_looped - for_looped:.3f} {\"seconds\":<8}')\n",
    "print(f'{\"Sum loop\":<10} is {((while_looped - for_looped) / while_looped) * 100:.2f} % faster than while loop')\n"
   ],
   "metadata": {
    "collapsed": false
   }
  },
  {
   "cell_type": "markdown",
   "source": [
    "\n",
    "\n",
    "\n",
    "\n"
   ],
   "metadata": {
    "collapsed": false
   }
  },
  {
   "cell_type": "code",
   "execution_count": null,
   "outputs": [],
   "source": [
    "def sum_range():\n",
    "    return sum(range(times))"
   ],
   "metadata": {
    "collapsed": false
   }
  },
  {
   "cell_type": "markdown",
   "source": [
    "\n",
    "\n",
    "\n"
   ],
   "metadata": {
    "collapsed": false
   }
  },
  {
   "cell_type": "code",
   "execution_count": null,
   "outputs": [],
   "source": [
    "sum_ranged = timeit.timeit(sum_range, number=1)\n",
    "\n",
    "print(f'{\"Sum Range\":<10} {sum_ranged:.3f} {\"seconds\":<8}')"
   ],
   "metadata": {
    "collapsed": false
   }
  },
  {
   "cell_type": "code",
   "execution_count": 34,
   "outputs": [
    {
     "name": "stdout",
     "output_type": "stream",
     "text": [
      "Difference between While & Sum 4.695 seconds \n",
      "Sum loop   is 70.16 % faster than while loop\n",
      "\n",
      "Difference between For & Sum 0.856 seconds \n",
      "Sum loop   is 29.99 % faster than \"for loop\n"
     ]
    }
   ],
   "source": [
    "print(f'{\"Difference between While & Sum\":<10} {while_looped - sum_ranged:.3f} {\"seconds\":<8}')\n",
    "print(f'{\"Sum loop\":<10} is {((while_looped - sum_ranged) / while_looped) * 100:.2f} % faster than while loop')\n",
    "\n",
    "print()\n",
    "\n",
    "print(f'{\"Difference between For & Sum\":<10} {for_looped - sum_ranged:.3f} {\"seconds\":<8}')\n",
    "print(f'{\"Sum loop\":<10} is {((for_looped - sum_ranged) / for_looped) * 100:.2f} % faster than \"for loop')"
   ],
   "metadata": {
    "collapsed": false
   }
  },
  {
   "cell_type": "code",
   "execution_count": 29,
   "outputs": [],
   "source": [
    "def sum_range_numpy():\n",
    "    return numpy.sum(numpy.arange(times))"
   ],
   "metadata": {
    "collapsed": false
   }
  },
  {
   "cell_type": "code",
   "execution_count": 30,
   "outputs": [
    {
     "name": "stdout",
     "output_type": "stream",
     "text": [
      "Sum Range  0.138 seconds \n"
     ]
    }
   ],
   "source": [
    "sum_ranged_numpy = timeit.timeit(sum_range_numpy, number=1)\n",
    "print(f'{\"Sum Range\":<10} {sum_ranged_numpy:.3f} {\"seconds\":<8}')"
   ],
   "metadata": {
    "collapsed": false
   }
  },
  {
   "cell_type": "code",
   "execution_count": 43,
   "outputs": [
    {
     "name": "stdout",
     "output_type": "stream",
     "text": [
      "Difference between While & Sum 6.602 seconds \n",
      "Sum loop   is 97.95 % faster than while loop\n",
      "\n",
      "Difference between For & Sum 2.535 seconds \n",
      "Sum loop   is 94.84 % faster than \"for loop\n",
      "\n",
      "Difference between For & Sum 1.859 seconds \n",
      "Sum loop   is 93.09 % faster than \"for loop\n"
     ]
    }
   ],
   "source": [
    "print(f'{\"Difference between While & Sum\":<10} {while_looped - sum_ranged_numpy:.3f} {\"seconds\":<8}')\n",
    "print(f'{\"Sum loop\":<10} is {((while_looped - sum_ranged_numpy) / while_looped) * 100:.2f} % faster than while loop')\n",
    "\n",
    "print()\n",
    "\n",
    "print(f'{\"Difference between For & Sum\":<10} {for_looped - sum_ranged_numpy:.3f} {\"seconds\":<8}')\n",
    "print(f'{\"Sum loop\":<10} is {((for_looped - sum_ranged_numpy) / for_looped) * 100:.2f} % faster than \"for loop')\n",
    "\n",
    "print()\n",
    "\n",
    "print(f'{\"Difference between For & Sum\":<10} {sum_ranged - sum_ranged_numpy:.3f} {\"seconds\":<8}')\n",
    "print(f'{\"Sum loop\":<10} is {((sum_ranged - sum_ranged_numpy) / sum_ranged) * 100:.2f} % faster than \"for loop')\n"
   ],
   "metadata": {
    "collapsed": false
   }
  },
  {
   "cell_type": "code",
   "execution_count": null,
   "outputs": [],
   "source": [
    "def sum_math():\n",
    "    return (times * (times - 1)) // 2"
   ],
   "metadata": {
    "collapsed": false
   }
  },
  {
   "cell_type": "code",
   "execution_count": null,
   "outputs": [],
   "source": [
    "sum_mathed = timeit.timeit(sum_math, number=1)\n",
    "print(f'{\"Sum Range\":<10} {sum_mathed:.6f} {\"seconds\":<8}')"
   ],
   "metadata": {
    "collapsed": false
   }
  },
  {
   "cell_type": "code",
   "execution_count": null,
   "outputs": [],
   "source": [
    "print(f'{\"Difference\":<10} {sum_ranged_numpy - sum_mathed:.3f} {\"seconds\":<8}')\n",
    "print(f'{\"Percentage difference\":<10} {((sum_ranged_numpy - sum_mathed) / sum_ranged_numpy) * 100:.3f} {\"%\":<8}')\n",
    "print(f'{\"Times faster\":<10} {sum_ranged_numpy / sum_mathed:.3f} {\"times\":<8}')"
   ],
   "metadata": {
    "collapsed": false
   }
  },
  {
   "cell_type": "code",
   "execution_count": null,
   "outputs": [],
   "source": [],
   "metadata": {
    "collapsed": false
   }
  }
 ],
 "metadata": {
  "kernelspec": {
   "display_name": "Python 3",
   "language": "python",
   "name": "python3"
  },
  "language_info": {
   "codemirror_mode": {
    "name": "ipython",
    "version": 2
   },
   "file_extension": ".py",
   "mimetype": "text/x-python",
   "name": "python",
   "nbconvert_exporter": "python",
   "pygments_lexer": "ipython2",
   "version": "2.7.6"
  }
 },
 "nbformat": 4,
 "nbformat_minor": 0
}
