{
 "cells": [
  {
   "cell_type": "code",
   "execution_count": 28,
   "outputs": [],
   "source": [
    "import numpy"
   ],
   "metadata": {
    "collapsed": false
   }
  },
  {
   "cell_type": "markdown",
   "source": [
    "# Pyformance\n",
    "## Part 1 - Python to C#, how to loop faster!"
   ],
   "metadata": {
    "collapsed": false
   }
  },
  {
   "cell_type": "markdown",
   "source": [
    "Starter med å importers timeit som er en python pakkke som lar oss ta tiden på ting"
   ],
   "metadata": {
    "collapsed": false
   }
  },
  {
   "cell_type": "code",
   "execution_count": 29,
   "outputs": [],
   "source": [
    "import timeit"
   ],
   "metadata": {
    "collapsed": false
   }
  },
  {
   "cell_type": "markdown",
   "source": [
    "\n",
    "\n",
    "Setter en global variabel til 100 000 000 (Et hundre millioner)\n"
   ],
   "metadata": {
    "collapsed": false
   }
  },
  {
   "cell_type": "code",
   "execution_count": 30,
   "outputs": [],
   "source": [
    "times = 100_000_000"
   ],
   "metadata": {
    "collapsed": false
   }
  },
  {
   "cell_type": "markdown",
   "source": [
    "\n",
    "\n",
    "\n",
    "\n"
   ],
   "metadata": {
    "collapsed": false
   }
  },
  {
   "cell_type": "code",
   "execution_count": 31,
   "outputs": [],
   "source": [
    "def while_loop():\n",
    "    total = 0\n",
    "    i = 0\n",
    "    while i < times:\n",
    "        total += i\n",
    "        i += 1\n",
    "    return total"
   ],
   "metadata": {
    "collapsed": false
   }
  },
  {
   "cell_type": "markdown",
   "source": [
    "\n",
    "\n",
    "\n",
    "\n"
   ],
   "metadata": {
    "collapsed": false
   }
  },
  {
   "cell_type": "code",
   "execution_count": 32,
   "outputs": [],
   "source": [
    "def for_loop():\n",
    "    total = 0\n",
    "    for i in range(times):\n",
    "        total += i\n",
    "    return total"
   ],
   "metadata": {
    "collapsed": false
   }
  },
  {
   "cell_type": "markdown",
   "source": [
    "\n",
    "\n",
    "\n",
    "\n"
   ],
   "metadata": {
    "collapsed": false
   }
  },
  {
   "cell_type": "code",
   "execution_count": 33,
   "outputs": [],
   "source": [
    "while_looped = timeit.timeit(while_loop, number=1)\n",
    "for_looped = timeit.timeit(for_loop, number=1)"
   ],
   "metadata": {
    "collapsed": false
   }
  },
  {
   "cell_type": "code",
   "execution_count": 34,
   "outputs": [
    {
     "name": "stdout",
     "output_type": "stream",
     "text": [
      "While loop 9.291 seconds \n",
      "For loop   3.581 seconds \n"
     ]
    }
   ],
   "source": [
    "print(f'{\"While loop\":<10} {while_looped:.3f} {\"seconds\":<8}')\n",
    "print(f'{\"For loop\":<10} {for_looped:.3f} {\"seconds\":<8}')"
   ],
   "metadata": {
    "collapsed": false
   }
  },
  {
   "cell_type": "code",
   "execution_count": 35,
   "outputs": [
    {
     "name": "stdout",
     "output_type": "stream",
     "text": [
      "Difference 5.710 seconds \n",
      "For loop   is 61.46 % compared to the While loop\n"
     ]
    }
   ],
   "source": [
    "print(f'{\"Difference\":<10} {while_looped - for_looped:.3f} {\"seconds\":<8}')\n",
    "print(f'{\"For loop\":<10} is {((while_looped - for_looped) / while_looped) * 100:.2f} % compared to the While loop')\n"
   ],
   "metadata": {
    "collapsed": false
   }
  },
  {
   "cell_type": "markdown",
   "source": [
    "\n",
    "\n",
    "\n",
    "\n"
   ],
   "metadata": {
    "collapsed": false
   }
  },
  {
   "cell_type": "code",
   "execution_count": 36,
   "outputs": [],
   "source": [
    "def sum_range():\n",
    "    return sum(range(times))"
   ],
   "metadata": {
    "collapsed": false
   }
  },
  {
   "cell_type": "markdown",
   "source": [
    "\n",
    "\n",
    "\n"
   ],
   "metadata": {
    "collapsed": false
   }
  },
  {
   "cell_type": "code",
   "execution_count": 37,
   "outputs": [
    {
     "name": "stdout",
     "output_type": "stream",
     "text": [
      "Sum Range  3.431 seconds \n"
     ]
    }
   ],
   "source": [
    "sum_ranged = timeit.timeit(sum_range, number=1)\n",
    "\n",
    "print(f'{\"Sum Range\":<10} {sum_ranged:.3f} {\"seconds\":<8}')"
   ],
   "metadata": {
    "collapsed": false
   }
  },
  {
   "cell_type": "code",
   "execution_count": 38,
   "outputs": [
    {
     "name": "stdout",
     "output_type": "stream",
     "text": [
      "Difference between While & Sum 5.860 seconds \n",
      "Sum loop   is 63.08 % compared to the While loop\n",
      "\n",
      "Difference between For & Sum 0.150 seconds \n",
      "Sum loop   is 4.19 % compared to the For loop\n"
     ]
    }
   ],
   "source": [
    "print(f'{\"Difference between While & Sum\":<10} {while_looped - sum_ranged:.3f} {\"seconds\":<8}')\n",
    "print(f'{\"Sum loop\":<10} is {(((while_looped - sum_ranged) / while_looped) * 100):.2f} % compared to the While loop')\n",
    "\n",
    "print()\n",
    "\n",
    "print(f'{\"Difference between For & Sum\":<10} {for_looped - sum_ranged:.3f} {\"seconds\":<8}')\n",
    "print(f'{\"Sum loop\":<10} is {((for_looped - sum_ranged) / for_looped) * 100:.2f} % compared to the For loop')"
   ],
   "metadata": {
    "collapsed": false
   }
  },
  {
   "cell_type": "code",
   "execution_count": 39,
   "outputs": [],
   "source": [
    "def sum_range_numpy():\n",
    "    return numpy.sum(numpy.arange(times))"
   ],
   "metadata": {
    "collapsed": false
   }
  },
  {
   "cell_type": "code",
   "execution_count": 40,
   "outputs": [
    {
     "name": "stdout",
     "output_type": "stream",
     "text": [
      "Sum Range  0.166 seconds \n"
     ]
    }
   ],
   "source": [
    "sum_ranged_numpy = timeit.timeit(sum_range_numpy, number=1)\n",
    "print(f'{\"Sum Range\":<10} {sum_ranged_numpy:.3f} {\"seconds\":<8}')"
   ],
   "metadata": {
    "collapsed": false
   }
  },
  {
   "cell_type": "code",
   "execution_count": 41,
   "outputs": [
    {
     "name": "stdout",
     "output_type": "stream",
     "text": [
      "Difference between While & NumpySum 9.125 seconds \n",
      "NumpySum loop is 98.21 % faster compared to the While loop\n",
      "\n",
      "Difference between For & NumpySum 3.415 seconds \n",
      "NumpySum loop is 95.36 % faster compared to the For loop\n",
      "\n",
      "Difference between Sum & NumpySum 3.265 seconds \n",
      "NumpySum loop is 95.16 % faster compared to the Sum loop\n"
     ]
    }
   ],
   "source": [
    "print(f'{\"Difference between While & NumpySum\":<10} {while_looped - sum_ranged_numpy:.3f} {\"seconds\":<8}')\n",
    "print(f'{\"NumpySum loop\":<10} is {((while_looped - sum_ranged_numpy) / while_looped) * 100:.2f} % faster compared to the While loop')\n",
    "\n",
    "print()\n",
    "\n",
    "print(f'{\"Difference between For & NumpySum\":<10} {for_looped - sum_ranged_numpy:.3f} {\"seconds\":<8}')\n",
    "print(f'{\"NumpySum loop\":<10} is {((for_looped - sum_ranged_numpy) / for_looped) * 100:.2f} % faster compared to the For loop')\n",
    "\n",
    "print()\n",
    "\n",
    "print(f'{\"Difference between Sum & NumpySum\":<10} {sum_ranged - sum_ranged_numpy:.3f} {\"seconds\":<8}')\n",
    "print(f'{\"NumpySum loop\":<10} is {((sum_ranged - sum_ranged_numpy) / sum_ranged) * 100:.2f} % faster compared to the Sum loop')\n"
   ],
   "metadata": {
    "collapsed": false
   }
  },
  {
   "cell_type": "code",
   "execution_count": 42,
   "outputs": [],
   "source": [
    "def sum_math():\n",
    "    return (times * (times - 1)) // 2"
   ],
   "metadata": {
    "collapsed": false
   }
  },
  {
   "cell_type": "code",
   "execution_count": 43,
   "outputs": [
    {
     "name": "stdout",
     "output_type": "stream",
     "text": [
      "Sum Range  0.000002 seconds \n"
     ]
    }
   ],
   "source": [
    "sum_mathed = timeit.timeit(sum_math, number=1)\n",
    "print(f'{\"Sum Range\":<10} {sum_mathed:.6f} {\"seconds\":<8}')"
   ],
   "metadata": {
    "collapsed": false
   }
  },
  {
   "cell_type": "code",
   "execution_count": 46,
   "outputs": [
    {
     "name": "stdout",
     "output_type": "stream",
     "text": [
      "Difference between While & Math 9.290769800019916 seconds \n",
      "NumpySum loop is 99.99998170244699 % faster compared to the While loop\n",
      "\n",
      "Difference between For & Math 3.580723000020953 seconds \n",
      "NumpySum loop is 99.99995252402843 % faster compared to the For loop\n",
      "\n",
      "Difference between Sum & Math 3.4306011000298895 seconds \n",
      "NumpySum loop is 99.99995044649759 % faster compared to the Sum loop\n",
      "\n",
      "Difference between NumpySum & Math 0.16606650003814138 seconds \n",
      "NumpySum loop is 99.998976 % faster compared to the NumpySum loop\n"
     ]
    }
   ],
   "source": [
    "print(f'{\"Difference between While & Math\":<10} {while_looped - sum_mathed:} {\"seconds\":<8}')\n",
    "print(f'{\"While loop\":<10} is {((while_looped - sum_mathed) / while_looped) * 100:} % faster compared to the While loop')\n",
    "\n",
    "print()\n",
    "\n",
    "print(f'{\"Difference between For & Math\":<10} {for_looped - sum_mathed:} {\"seconds\":<8}')\n",
    "print(f'{\"For loop\":<10} is {((for_looped - sum_mathed) / for_looped) * 100:} % faster compared to the For loop')\n",
    "\n",
    "print()\n",
    "\n",
    "print(f'{\"Difference between Sum & Math\":<10} {sum_ranged - sum_mathed:} {\"seconds\":<8}')\n",
    "print(f'{\"Sum loop\":<10} is {((sum_ranged - sum_mathed) / sum_ranged) * 100:} % faster compared to the Sum loop')\n",
    "\n",
    "print()\n",
    "\n",
    "print(f'{\"Difference between NumpySum & Math\":<10} {sum_ranged_numpy - sum_mathed:} {\"seconds\":<8}')\n",
    "print(f'{\"NumpySum loop\":<10} is {((sum_ranged_numpy - sum_mathed) / sum_ranged_numpy) * 100:f} % faster compared to the NumpySum loop')"
   ],
   "metadata": {
    "collapsed": false
   }
  }
 ],
 "metadata": {
  "kernelspec": {
   "display_name": "Python 3",
   "language": "python",
   "name": "python3"
  },
  "language_info": {
   "codemirror_mode": {
    "name": "ipython",
    "version": 2
   },
   "file_extension": ".py",
   "mimetype": "text/x-python",
   "name": "python",
   "nbconvert_exporter": "python",
   "pygments_lexer": "ipython2",
   "version": "2.7.6"
  }
 },
 "nbformat": 4,
 "nbformat_minor": 0
}
