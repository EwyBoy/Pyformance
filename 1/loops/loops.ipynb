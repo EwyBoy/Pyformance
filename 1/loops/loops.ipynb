{
 "cells": [
  {
   "cell_type": "markdown",
   "source": [
    "# Pyformance\n",
    "## Part 1 - Python to C#, how to loop faster"
   ],
   "metadata": {
    "collapsed": false
   }
  },
  {
   "cell_type": "markdown",
   "source": [
    "Starter med å importers timeit som er en python pakkke som lar oss ta tiden på ting"
   ],
   "metadata": {
    "collapsed": false
   }
  },
  {
   "cell_type": "code",
   "execution_count": 19,
   "outputs": [],
   "source": [
    "import timeit"
   ],
   "metadata": {
    "collapsed": false
   }
  },
  {
   "cell_type": "markdown",
   "source": [
    "Setter en global variabel til 100 000 000 (Et hundre millioner)"
   ],
   "metadata": {
    "collapsed": false
   }
  },
  {
   "cell_type": "code",
   "execution_count": 20,
   "outputs": [],
   "source": [
    "times = 100_000_000"
   ],
   "metadata": {
    "collapsed": false
   }
  },
  {
   "cell_type": "markdown",
   "source": [
    "Under her defineres to ulike type måter å"
   ],
   "metadata": {
    "collapsed": false
   }
  },
  {
   "cell_type": "code",
   "execution_count": 21,
   "outputs": [],
   "source": [
    "def for_loop():\n",
    "    total = 0\n",
    "    for i in range(times):\n",
    "        total += i\n",
    "    return total"
   ],
   "metadata": {
    "collapsed": false
   }
  },
  {
   "cell_type": "code",
   "execution_count": 22,
   "outputs": [],
   "source": [
    "def while_loop():\n",
    "    total = 0\n",
    "    i = 0\n",
    "    while i < times:\n",
    "        total += i\n",
    "        i += 1\n",
    "    return total"
   ],
   "metadata": {
    "collapsed": false
   }
  },
  {
   "cell_type": "code",
   "execution_count": 23,
   "outputs": [
    {
     "name": "stdout",
     "output_type": "stream",
     "text": [
      "For loop   3.051 seconds \n"
     ]
    }
   ],
   "source": [
    "for_looped = timeit.timeit(for_loop, number=1)\n",
    "print(f'{\"For loop\":<10} {for_looped:.3f} {\"seconds\":<8}')"
   ],
   "metadata": {
    "collapsed": false
   }
  },
  {
   "cell_type": "code",
   "execution_count": 6,
   "outputs": [
    {
     "name": "stdout",
     "output_type": "stream",
     "text": [
      "While loop 6.733 seconds \n"
     ]
    }
   ],
   "source": [
    "while_looped = timeit.timeit(while_loop, number=1)\n",
    "print(f'{\"While loop\":<10} {while_looped:.3f} {\"seconds\":<8}')"
   ],
   "metadata": {
    "collapsed": false
   }
  },
  {
   "cell_type": "code",
   "execution_count": 7,
   "outputs": [
    {
     "name": "stdout",
     "output_type": "stream",
     "text": [
      "Difference 3.668 seconds \n",
      "For loop is 0.455 times faster\n",
      "For loop is 54.482 % faster\n"
     ]
    }
   ],
   "source": [
    "print(f'{\"Difference\":<10} {while_looped - for_looped:.3f} {\"seconds\":<8}')\n",
    "print(f'{\"For loop is\":<10} {for_looped / while_looped:.3f} {\"times faster\":<8}')\n",
    "print(f'{\"For loop is\":<10} {100 - (for_looped / while_looped * 100):.3f} {\"% faster\":<8}')\n"
   ],
   "metadata": {
    "collapsed": false
   }
  },
  {
   "cell_type": "code",
   "execution_count": 8,
   "outputs": [],
   "source": [
    "def sum_range():\n",
    "    return sum(range(times))"
   ],
   "metadata": {
    "collapsed": false
   }
  },
  {
   "cell_type": "code",
   "execution_count": 9,
   "outputs": [
    {
     "name": "stdout",
     "output_type": "stream",
     "text": [
      "Sum Range  2.303 seconds \n"
     ]
    }
   ],
   "source": [
    "sum_ranged = timeit.timeit(sum_range, number=1)\n",
    "print(f'{\"Sum Range\":<10} {sum_ranged:.3f} {\"seconds\":<8}')"
   ],
   "metadata": {
    "collapsed": false
   }
  },
  {
   "cell_type": "code",
   "execution_count": 10,
   "outputs": [
    {
     "name": "stdout",
     "output_type": "stream",
     "text": [
      "Difference 4.430 seconds \n",
      "Percentage difference 65.800 %       \n",
      "Times faster 2.924 times   \n",
      "Difference 0.762 seconds \n",
      "Percentage difference 24.864 %       \n",
      "Times faster 1.331 times   \n"
     ]
    }
   ],
   "source": [
    "print(f'{\"Difference\":<10} {while_looped - sum_ranged:.3f} {\"seconds\":<8}')\n",
    "print(f'{\"Percentage difference\":<10} {((while_looped - sum_ranged) / while_looped) * 100:.3f} {\"%\":<8}')\n",
    "print(f'{\"Times faster\":<10} {while_looped / sum_ranged:.3f} {\"times\":<8}')\n",
    "\n",
    "print(f'{\"Difference\":<10} {for_looped - sum_ranged:.3f} {\"seconds\":<8}')\n",
    "print(f'{\"Percentage difference\":<10} {((for_looped - sum_ranged) / for_looped) * 100:.3f} {\"%\":<8}')\n",
    "print(f'{\"Times faster\":<10} {for_looped / sum_ranged:.3f} {\"times\":<8}')"
   ],
   "metadata": {
    "collapsed": false
   }
  },
  {
   "cell_type": "code",
   "execution_count": 11,
   "outputs": [],
   "source": [
    "import numpy"
   ],
   "metadata": {
    "collapsed": false
   }
  },
  {
   "cell_type": "code",
   "execution_count": 12,
   "outputs": [],
   "source": [
    "def sum_range_numpy():\n",
    "    return numpy.sum(numpy.arange(times))"
   ],
   "metadata": {
    "collapsed": false
   }
  },
  {
   "cell_type": "code",
   "execution_count": 13,
   "outputs": [
    {
     "name": "stdout",
     "output_type": "stream",
     "text": [
      "Sum Range  0.111 seconds \n"
     ]
    }
   ],
   "source": [
    "sum_ranged_numpy = timeit.timeit(sum_range_numpy, number=1)\n",
    "print(f'{\"Sum Range\":<10} {sum_ranged_numpy:.3f} {\"seconds\":<8}')"
   ],
   "metadata": {
    "collapsed": false
   }
  },
  {
   "cell_type": "code",
   "execution_count": 14,
   "outputs": [
    {
     "name": "stdout",
     "output_type": "stream",
     "text": [
      "Difference 6.622 seconds \n",
      "Percentage difference 98.356 %       \n",
      "Times faster 60.819 times   \n",
      "Difference 2.954 seconds \n",
      "Percentage difference 96.388 %       \n",
      "Times faster 27.684 times   \n",
      "Difference 2.192 seconds \n",
      "Percentage difference 95.192 %       \n",
      "Times faster 20.800 times   \n"
     ]
    }
   ],
   "source": [
    "print(f'{\"Difference\":<10} {while_looped - sum_ranged_numpy:.3f} {\"seconds\":<8}')\n",
    "print(f'{\"Percentage difference\":<10} {((while_looped - sum_ranged_numpy) / while_looped) * 100:.3f} {\"%\":<8}')\n",
    "print(f'{\"Times faster\":<10} {while_looped / sum_ranged_numpy:.3f} {\"times\":<8}')\n",
    "\n",
    "print(f'{\"Difference\":<10} {for_looped - sum_ranged_numpy:.3f} {\"seconds\":<8}')\n",
    "print(f'{\"Percentage difference\":<10} {((for_looped - sum_ranged_numpy) / for_looped) * 100:.3f} {\"%\":<8}')\n",
    "print(f'{\"Times faster\":<10} {for_looped / sum_ranged_numpy:.3f} {\"times\":<8}')\n",
    "\n",
    "print(f'{\"Difference\":<10} {sum_ranged - sum_ranged_numpy:.3f} {\"seconds\":<8}')\n",
    "print(f'{\"Percentage difference\":<10} {((sum_ranged - sum_ranged_numpy) / sum_ranged) * 100:.3f} {\"%\":<8}')\n",
    "print(f'{\"Times faster\":<10} {sum_ranged / sum_ranged_numpy:.3f} {\"times\":<8}')\n"
   ],
   "metadata": {
    "collapsed": false
   }
  },
  {
   "cell_type": "code",
   "execution_count": 15,
   "outputs": [
    {
     "name": "stdout",
     "output_type": "stream",
     "text": [
      "Times faster 20.800 times   \n"
     ]
    }
   ],
   "source": [
    "print(f'{\"Times faster\":<10} {sum_ranged / sum_ranged_numpy:.3f} {\"times\":<8}')"
   ],
   "metadata": {
    "collapsed": false
   }
  },
  {
   "cell_type": "code",
   "execution_count": 16,
   "outputs": [],
   "source": [
    "def sum_math():\n",
    "    return (times * (times - 1)) // 2"
   ],
   "metadata": {
    "collapsed": false
   }
  },
  {
   "cell_type": "code",
   "execution_count": 17,
   "outputs": [
    {
     "name": "stdout",
     "output_type": "stream",
     "text": [
      "Sum Range  0.000001 seconds \n"
     ]
    }
   ],
   "source": [
    "sum_mathed = timeit.timeit(sum_math, number=1)\n",
    "print(f'{\"Sum Range\":<10} {sum_mathed:.6f} {\"seconds\":<8}')"
   ],
   "metadata": {
    "collapsed": false
   }
  },
  {
   "cell_type": "code",
   "execution_count": 18,
   "outputs": [
    {
     "name": "stdout",
     "output_type": "stream",
     "text": [
      "Difference 0.111 seconds \n",
      "Percentage difference 99.999 %       \n",
      "Times faster 123002.619 times   \n"
     ]
    }
   ],
   "source": [
    "print(f'{\"Difference\":<10} {sum_ranged_numpy - sum_mathed:.3f} {\"seconds\":<8}')\n",
    "print(f'{\"Percentage difference\":<10} {((sum_ranged_numpy - sum_mathed) / sum_ranged_numpy) * 100:.3f} {\"%\":<8}')\n",
    "print(f'{\"Times faster\":<10} {sum_ranged_numpy / sum_mathed:.3f} {\"times\":<8}')"
   ],
   "metadata": {
    "collapsed": false
   }
  },
  {
   "cell_type": "code",
   "execution_count": 18,
   "outputs": [],
   "source": [],
   "metadata": {
    "collapsed": false
   }
  }
 ],
 "metadata": {
  "kernelspec": {
   "display_name": "Python 3",
   "language": "python",
   "name": "python3"
  },
  "language_info": {
   "codemirror_mode": {
    "name": "ipython",
    "version": 2
   },
   "file_extension": ".py",
   "mimetype": "text/x-python",
   "name": "python",
   "nbconvert_exporter": "python",
   "pygments_lexer": "ipython2",
   "version": "2.7.6"
  }
 },
 "nbformat": 4,
 "nbformat_minor": 0
}
