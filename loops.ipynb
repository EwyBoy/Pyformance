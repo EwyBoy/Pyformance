{
 "cells": [
  {
   "cell_type": "markdown",
   "source": [
    "# Pyformance\n",
    "## Part 1 - Python to C#, how to loop faster"
   ],
   "metadata": {
    "collapsed": false
   }
  },
  {
   "cell_type": "markdown",
   "source": [
    "Starter med å importers timeit som er en python pakkke som lar oss ta tiden på ting"
   ],
   "metadata": {
    "collapsed": false
   }
  },
  {
   "cell_type": "code",
   "execution_count": 54,
   "metadata": {
    "collapsed": true
   },
   "outputs": [],
   "source": [
    "import timeit"
   ]
  },
  {
   "cell_type": "markdown",
   "source": [
    "Setter en global variabel til 100 000 000 (Et hundre millioner)"
   ],
   "metadata": {
    "collapsed": false
   }
  },
  {
   "cell_type": "code",
   "execution_count": 55,
   "outputs": [],
   "source": [
    "times = 100_000_000"
   ],
   "metadata": {
    "collapsed": false
   }
  },
  {
   "cell_type": "markdown",
   "source": [
    "Under her defineres to ulike type måter å"
   ],
   "metadata": {
    "collapsed": false
   }
  },
  {
   "cell_type": "code",
   "execution_count": 56,
   "outputs": [],
   "source": [
    "def for_loop():\n",
    "    total = 0\n",
    "    for i in range(times):\n",
    "        total += i\n",
    "    return total"
   ],
   "metadata": {
    "collapsed": false
   }
  },
  {
   "cell_type": "code",
   "execution_count": 57,
   "outputs": [],
   "source": [
    "def while_loop():\n",
    "    total = 0\n",
    "    i = 0\n",
    "    while i < times:\n",
    "        total += i\n",
    "        i += 1"
   ],
   "metadata": {
    "collapsed": false
   }
  },
  {
   "cell_type": "code",
   "execution_count": 58,
   "outputs": [
    {
     "name": "stdout",
     "output_type": "stream",
     "text": [
      "For loop   2.855 seconds \n"
     ]
    }
   ],
   "source": [
    "for_looped = timeit.timeit(for_loop, number=1)\n",
    "print(f'{\"For loop\":<10} {for_looped:.3f} {\"seconds\":<8}')"
   ],
   "metadata": {
    "collapsed": false
   }
  },
  {
   "cell_type": "code",
   "execution_count": null,
   "outputs": [],
   "source": [
    "while_looped = timeit.timeit(while_loop, number=1)\n",
    "print(f'{\"While loop\":<10} {while_looped:.3f} {\"seconds\":<8}')"
   ],
   "metadata": {
    "collapsed": false
   }
  },
  {
   "cell_type": "code",
   "execution_count": 60,
   "outputs": [
    {
     "name": "stdout",
     "output_type": "stream",
     "text": [
      "Difference 3.548 seconds \n",
      "Percentage difference 55.406 %       \n",
      "Times faster 2.242 times   \n"
     ]
    }
   ],
   "source": [
    "print(f'{\"Difference\":<10} {while_looped - for_looped:.3f} {\"seconds\":<8}')\n",
    "print(f'{\"Percentage difference\":<10} {((while_looped - for_looped) / while_looped) * 100:.3f} {\"%\":<8}')\n",
    "print(f'{\"Times faster\":<10} {while_looped / for_looped:.3f} {\"times\":<8}')\n"
   ],
   "metadata": {
    "collapsed": false
   }
  },
  {
   "cell_type": "code",
   "execution_count": 61,
   "outputs": [],
   "source": [
    "def sum_range():\n",
    "    return sum(range(times))"
   ],
   "metadata": {
    "collapsed": false
   }
  },
  {
   "cell_type": "code",
   "execution_count": 62,
   "outputs": [
    {
     "name": "stdout",
     "output_type": "stream",
     "text": [
      "Sum Range  2.145 seconds \n"
     ]
    }
   ],
   "source": [
    "sum_ranged = timeit.timeit(sum_range, number=1)\n",
    "print(f'{\"Sum Range\":<10} {sum_ranged:.3f} {\"seconds\":<8}')"
   ],
   "metadata": {
    "collapsed": false
   }
  },
  {
   "cell_type": "code",
   "execution_count": 63,
   "outputs": [
    {
     "name": "stdout",
     "output_type": "stream",
     "text": [
      "Difference 4.258 seconds \n",
      "Percentage difference 66.497 %       \n",
      "Times faster 2.985 times   \n",
      "Difference 0.710 seconds \n",
      "Percentage difference 24.871 %       \n",
      "Times faster 1.331 times   \n"
     ]
    }
   ],
   "source": [
    "print(f'{\"Difference\":<10} {while_looped - sum_ranged:.3f} {\"seconds\":<8}')\n",
    "print(f'{\"Percentage difference\":<10} {((while_looped - sum_ranged) / while_looped) * 100:.3f} {\"%\":<8}')\n",
    "print(f'{\"Times faster\":<10} {while_looped / sum_ranged:.3f} {\"times\":<8}')\n",
    "\n",
    "print(f'{\"Difference\":<10} {for_looped - sum_ranged:.3f} {\"seconds\":<8}')\n",
    "print(f'{\"Percentage difference\":<10} {((for_looped - sum_ranged) / for_looped) * 100:.3f} {\"%\":<8}')\n",
    "print(f'{\"Times faster\":<10} {for_looped / sum_ranged:.3f} {\"times\":<8}')"
   ],
   "metadata": {
    "collapsed": false
   }
  },
  {
   "cell_type": "code",
   "execution_count": 64,
   "outputs": [],
   "source": [
    "import numpy"
   ],
   "metadata": {
    "collapsed": false
   }
  },
  {
   "cell_type": "code",
   "execution_count": 65,
   "outputs": [],
   "source": [
    "def sum_range_numpy():\n",
    "    return numpy.sum(numpy.arange(times))"
   ],
   "metadata": {
    "collapsed": false
   }
  },
  {
   "cell_type": "code",
   "execution_count": 66,
   "outputs": [
    {
     "name": "stdout",
     "output_type": "stream",
     "text": [
      "Sum Range  0.113 seconds \n"
     ]
    }
   ],
   "source": [
    "sum_ranged_numpy = timeit.timeit(sum_range_numpy, number=1)\n",
    "print(f'{\"Sum Range\":<10} {sum_ranged_numpy:.3f} {\"seconds\":<8}')"
   ],
   "metadata": {
    "collapsed": false
   }
  },
  {
   "cell_type": "code",
   "execution_count": 67,
   "outputs": [
    {
     "name": "stdout",
     "output_type": "stream",
     "text": [
      "Difference 6.290 seconds \n",
      "Percentage difference 98.239 %       \n",
      "Times faster 56.791 times   \n",
      "Difference 2.743 seconds \n",
      "Percentage difference 96.051 %       \n",
      "Times faster 25.326 times   \n",
      "Difference 2.032 seconds \n",
      "Percentage difference 94.744 %       \n",
      "Times faster 19.027 times   \n"
     ]
    }
   ],
   "source": [
    "print(f'{\"Difference\":<10} {while_looped - sum_ranged_numpy:.3f} {\"seconds\":<8}')\n",
    "print(f'{\"Percentage difference\":<10} {((while_looped - sum_ranged_numpy) / while_looped) * 100:.3f} {\"%\":<8}')\n",
    "print(f'{\"Times faster\":<10} {while_looped / sum_ranged_numpy:.3f} {\"times\":<8}')\n",
    "\n",
    "print(f'{\"Difference\":<10} {for_looped - sum_ranged_numpy:.3f} {\"seconds\":<8}')\n",
    "print(f'{\"Percentage difference\":<10} {((for_looped - sum_ranged_numpy) / for_looped) * 100:.3f} {\"%\":<8}')\n",
    "print(f'{\"Times faster\":<10} {for_looped / sum_ranged_numpy:.3f} {\"times\":<8}')\n",
    "\n",
    "print(f'{\"Difference\":<10} {sum_ranged - sum_ranged_numpy:.3f} {\"seconds\":<8}')\n",
    "print(f'{\"Percentage difference\":<10} {((sum_ranged - sum_ranged_numpy) / sum_ranged) * 100:.3f} {\"%\":<8}')\n",
    "print(f'{\"Times faster\":<10} {sum_ranged / sum_ranged_numpy:.3f} {\"times\":<8}')\n"
   ],
   "metadata": {
    "collapsed": false
   }
  },
  {
   "cell_type": "code",
   "execution_count": 68,
   "outputs": [
    {
     "name": "stdout",
     "output_type": "stream",
     "text": [
      "Times faster 19.027 times   \n"
     ]
    }
   ],
   "source": [
    "print(f'{\"Times faster\":<10} {sum_ranged / sum_ranged_numpy:.3f} {\"times\":<8}')"
   ],
   "metadata": {
    "collapsed": false
   }
  },
  {
   "cell_type": "code",
   "execution_count": 69,
   "outputs": [],
   "source": [
    "def sum_math():\n",
    "    return (times * (times - 1)) // 2"
   ],
   "metadata": {
    "collapsed": false
   }
  },
  {
   "cell_type": "code",
   "execution_count": 70,
   "outputs": [
    {
     "name": "stdout",
     "output_type": "stream",
     "text": [
      "Sum Range  0.000007 seconds \n"
     ]
    }
   ],
   "source": [
    "sum_mathed = timeit.timeit(sum_math, number=1)\n",
    "print(f'{\"Sum Range\":<10} {sum_mathed:.6f} {\"seconds\":<8}')"
   ],
   "metadata": {
    "collapsed": false
   }
  },
  {
   "cell_type": "code",
   "execution_count": 71,
   "outputs": [
    {
     "name": "stdout",
     "output_type": "stream",
     "text": [
      "Difference 0.113 seconds \n",
      "Percentage difference 99.994 %       \n",
      "Times faster 15658.708 times   \n"
     ]
    }
   ],
   "source": [
    "print(f'{\"Difference\":<10} {sum_ranged_numpy - sum_mathed:.3f} {\"seconds\":<8}')\n",
    "print(f'{\"Percentage difference\":<10} {((sum_ranged_numpy - sum_mathed) / sum_ranged_numpy) * 100:.3f} {\"%\":<8}')\n",
    "print(f'{\"Times faster\":<10} {sum_ranged_numpy / sum_mathed:.3f} {\"times\":<8}')"
   ],
   "metadata": {
    "collapsed": false
   }
  },
  {
   "cell_type": "code",
   "execution_count": 71,
   "outputs": [],
   "source": [],
   "metadata": {
    "collapsed": false
   }
  }
 ],
 "metadata": {
  "kernelspec": {
   "display_name": "Python 3",
   "language": "python",
   "name": "python3"
  },
  "language_info": {
   "codemirror_mode": {
    "name": "ipython",
    "version": 2
   },
   "file_extension": ".py",
   "mimetype": "text/x-python",
   "name": "python",
   "nbconvert_exporter": "python",
   "pygments_lexer": "ipython2",
   "version": "2.7.6"
  }
 },
 "nbformat": 4,
 "nbformat_minor": 0
}
